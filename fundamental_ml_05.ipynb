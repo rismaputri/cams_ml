{
 "cells": [
  {
   "cell_type": "code",
   "execution_count": 23,
   "metadata": {
    "collapsed": true,
    "pycharm": {
     "is_executing": false
    }
   },
   "outputs": [
    {
     "data": {
      "text/plain": "                 Date    Open    High     Low    Last   Close  \\\nDate                                                            \n2018-10-08 2018-10-08  208.00  222.25  206.85  216.00  215.15   \n2018-10-05 2018-10-05  217.00  218.60  205.90  210.25  209.20   \n2018-10-04 2018-10-04  223.50  227.80  216.15  217.25  218.20   \n2018-10-03 2018-10-03  230.00  237.50  225.75  226.45  227.60   \n2018-10-01 2018-10-01  234.55  234.60  221.05  230.30  230.90   \n\n            Total Trade Quantity  Turnover (Lacs)  \nDate                                               \n2018-10-08             4642146.0         10062.83  \n2018-10-05             3519515.0          7407.06  \n2018-10-04             1728786.0          3815.79  \n2018-10-03             1708590.0          3960.27  \n2018-10-01             1534749.0          3486.05  ",
      "text/html": "<div>\n<style scoped>\n    .dataframe tbody tr th:only-of-type {\n        vertical-align: middle;\n    }\n\n    .dataframe tbody tr th {\n        vertical-align: top;\n    }\n\n    .dataframe thead th {\n        text-align: right;\n    }\n</style>\n<table border=\"1\" class=\"dataframe\">\n  <thead>\n    <tr style=\"text-align: right;\">\n      <th></th>\n      <th>Date</th>\n      <th>Open</th>\n      <th>High</th>\n      <th>Low</th>\n      <th>Last</th>\n      <th>Close</th>\n      <th>Total Trade Quantity</th>\n      <th>Turnover (Lacs)</th>\n    </tr>\n    <tr>\n      <th>Date</th>\n      <th></th>\n      <th></th>\n      <th></th>\n      <th></th>\n      <th></th>\n      <th></th>\n      <th></th>\n      <th></th>\n    </tr>\n  </thead>\n  <tbody>\n    <tr>\n      <th>2018-10-08</th>\n      <td>2018-10-08</td>\n      <td>208.00</td>\n      <td>222.25</td>\n      <td>206.85</td>\n      <td>216.00</td>\n      <td>215.15</td>\n      <td>4642146.0</td>\n      <td>10062.83</td>\n    </tr>\n    <tr>\n      <th>2018-10-05</th>\n      <td>2018-10-05</td>\n      <td>217.00</td>\n      <td>218.60</td>\n      <td>205.90</td>\n      <td>210.25</td>\n      <td>209.20</td>\n      <td>3519515.0</td>\n      <td>7407.06</td>\n    </tr>\n    <tr>\n      <th>2018-10-04</th>\n      <td>2018-10-04</td>\n      <td>223.50</td>\n      <td>227.80</td>\n      <td>216.15</td>\n      <td>217.25</td>\n      <td>218.20</td>\n      <td>1728786.0</td>\n      <td>3815.79</td>\n    </tr>\n    <tr>\n      <th>2018-10-03</th>\n      <td>2018-10-03</td>\n      <td>230.00</td>\n      <td>237.50</td>\n      <td>225.75</td>\n      <td>226.45</td>\n      <td>227.60</td>\n      <td>1708590.0</td>\n      <td>3960.27</td>\n    </tr>\n    <tr>\n      <th>2018-10-01</th>\n      <td>2018-10-01</td>\n      <td>234.55</td>\n      <td>234.60</td>\n      <td>221.05</td>\n      <td>230.30</td>\n      <td>230.90</td>\n      <td>1534749.0</td>\n      <td>3486.05</td>\n    </tr>\n  </tbody>\n</table>\n</div>"
     },
     "metadata": {},
     "output_type": "execute_result",
     "execution_count": 23
    }
   ],
   "source": [
    "# penggunaan linear regression\n",
    "import pandas as pd\n",
    "import numpy as np\n",
    "import sklearn \n",
    "import matplotlib.pyplot as plt\n",
    "%matplotlib inline\n",
    "\n",
    "#normalisasi data: minmaxScaler\n",
    "from sklearn.preprocessing import MinMaxScaler\n",
    "scaler = MinMaxScaler(feature_range=(0,1))\n",
    "\n",
    "#ambil data\n",
    "df = pd.read_csv('stock.csv')\n",
    "df['Date'] = pd.to_datetime(df.Date, format = '%Y-%m-%d')\n",
    "df.index = df['Date'] \n",
    "df.head()"
   ]
  },
  {
   "cell_type": "code",
   "execution_count": 24,
   "outputs": [
    {
     "data": {
      "text/plain": "[<matplotlib.lines.Line2D at 0x182b698afc8>]"
     },
     "metadata": {},
     "output_type": "execute_result",
     "execution_count": 24
    },
    {
     "data": {
      "text/plain": "<Figure size 432x288 with 1 Axes>",
      "image/png": "[encoded data removed]"
     },
     "metadata": {
      "needs_background": "light"
     },
     "output_type": "display_data"
    }
   ],
   "source": [
    "plt.plot(df['Close'], label = 'Historical Stock Price')\n"
   ],
   "metadata": {
    "collapsed": false,
    "pycharm": {
     "name": "#%%\n",
     "is_executing": false
    }
   }
  },
  {
   "cell_type": "code",
   "execution_count": 25,
   "outputs": [
    {
     "data": {
      "text/plain": "                     Date   Close\n0     2013-10-08 00:00:00   155.8\n1     2013-10-09 00:00:00  155.55\n2     2013-10-10 00:00:00  160.15\n3     2013-10-11 00:00:00  160.05\n4     2013-10-14 00:00:00  159.45\n...                   ...     ...\n1230  2018-10-01 00:00:00   230.9\n1231  2018-10-03 00:00:00   227.6\n1232  2018-10-04 00:00:00   218.2\n1233  2018-10-05 00:00:00   209.2\n1234  2018-10-08 00:00:00  215.15\n\n[1235 rows x 2 columns]",
      "text/html": "<div>\n<style scoped>\n    .dataframe tbody tr th:only-of-type {\n        vertical-align: middle;\n    }\n\n    .dataframe tbody tr th {\n        vertical-align: top;\n    }\n\n    .dataframe thead th {\n        text-align: right;\n    }\n</style>\n<table border=\"1\" class=\"dataframe\">\n  <thead>\n    <tr style=\"text-align: right;\">\n      <th></th>\n      <th>Date</th>\n      <th>Close</th>\n    </tr>\n  </thead>\n  <tbody>\n    <tr>\n      <th>0</th>\n      <td>2013-10-08 00:00:00</td>\n      <td>155.8</td>\n    </tr>\n    <tr>\n      <th>1</th>\n      <td>2013-10-09 00:00:00</td>\n      <td>155.55</td>\n    </tr>\n    <tr>\n      <th>2</th>\n      <td>2013-10-10 00:00:00</td>\n      <td>160.15</td>\n    </tr>\n    <tr>\n      <th>3</th>\n      <td>2013-10-11 00:00:00</td>\n      <td>160.05</td>\n    </tr>\n    <tr>\n      <th>4</th>\n      <td>2013-10-14 00:00:00</td>\n      <td>159.45</td>\n    </tr>\n    <tr>\n      <th>...</th>\n      <td>...</td>\n      <td>...</td>\n    </tr>\n    <tr>\n      <th>1230</th>\n      <td>2018-10-01 00:00:00</td>\n      <td>230.9</td>\n    </tr>\n    <tr>\n      <th>1231</th>\n      <td>2018-10-03 00:00:00</td>\n      <td>227.6</td>\n    </tr>\n    <tr>\n      <th>1232</th>\n      <td>2018-10-04 00:00:00</td>\n      <td>218.2</td>\n    </tr>\n    <tr>\n      <th>1233</th>\n      <td>2018-10-05 00:00:00</td>\n      <td>209.2</td>\n    </tr>\n    <tr>\n      <th>1234</th>\n      <td>2018-10-08 00:00:00</td>\n      <td>215.15</td>\n    </tr>\n  </tbody>\n</table>\n<p>1235 rows × 2 columns</p>\n</div>"
     },
     "metadata": {},
     "output_type": "execute_result",
     "execution_count": 25
    }
   ],
   "source": [
    "data = df.sort_index(ascending=True, axis=0 )\n",
    "new_data = pd.DataFrame(index=range(0, len(df)), columns=['Date','Close'])\n",
    "\n",
    "for i in range(0, len(data)):\n",
    "    new_data['Date'][i] = data['Date'][i]\n",
    "    new_data['Close'][i] = data['Close'][i]\n",
    " \n",
    "new_data"
   ],
   "metadata": {
    "collapsed": false,
    "pycharm": {
     "name": "#%%\n",
     "is_executing": false
    }
   }
  },
  {
   "cell_type": "code",
   "execution_count": 27,
   "outputs": [
    {
     "data": {
      "text/plain": "(987, 2)"
     },
     "metadata": {},
     "output_type": "execute_result",
     "execution_count": 27
    }
   ],
   "source": [
    "train = new_data[:987]\n",
    "valid = new_data[987:]\n",
    "\n",
    "train.shape\n"
   ],
   "metadata": {
    "collapsed": false,
    "pycharm": {
     "name": "#%%\n",
     "is_executing": false
    }
   }
  },
  {
   "cell_type": "code",
   "execution_count": 28,
   "outputs": [
    {
     "data": {
      "text/plain": "248"
     },
     "metadata": {},
     "output_type": "execute_result",
     "execution_count": 28
    }
   ],
   "source": [
    "valid.shape[0]"
   ],
   "metadata": {
    "collapsed": false,
    "pycharm": {
     "name": "#%%\n",
     "is_executing": false
    }
   }
  },
  {
   "cell_type": "code",
   "execution_count": 33,
   "outputs": [
    {
     "data": {
      "text/plain": "104.51415465984348"
     },
     "metadata": {},
     "output_type": "execute_result",
     "execution_count": 33
    }
   ],
   "source": [
    "preds = []\n",
    "for i in range(0, valid.shape[0]):\n",
    "    a = train['Close'][len(train)-248+i:].sum() + sum(preds)\n",
    "    b = a/248\n",
    "    preds.append(b)\n",
    "    \n",
    "rms = np.sqrt(np.mean(np.power((np.array(valid['Close'])-preds), 2)))\n",
    "rms"
   ],
   "metadata": {
    "collapsed": false,
    "pycharm": {
     "name": "#%%\n",
     "is_executing": false
    }
   }
  },
  {
   "cell_type": "code",
   "execution_count": 35,
   "outputs": [
    {
     "data": {
      "text/plain": "                     Date   Close  Predictions  Prediction\n987   2017-10-09 00:00:00   208.3   152.306452  152.306452\n988   2017-10-10 00:00:00  208.45   152.310711  152.310711\n989   2017-10-11 00:00:00   209.4   152.313376  152.313376\n990   2017-10-12 00:00:00     212   152.331373  152.331373\n991   2017-10-13 00:00:00  210.25   152.327871  152.327871\n...                   ...     ...          ...         ...\n1230  2018-10-01 00:00:00   230.9   163.132287  163.132287\n1231  2018-10-03 00:00:00   227.6   162.960239  162.960239\n1232  2018-10-04 00:00:00   218.2   162.784877  162.784877\n1233  2018-10-05 00:00:00   209.2   162.614857  162.614857\n1234  2018-10-08 00:00:00  215.15   162.426005  162.426005\n\n[248 rows x 4 columns]",
      "text/html": "<div>\n<style scoped>\n    .dataframe tbody tr th:only-of-type {\n        vertical-align: middle;\n    }\n\n    .dataframe tbody tr th {\n        vertical-align: top;\n    }\n\n    .dataframe thead th {\n        text-align: right;\n    }\n</style>\n<table border=\"1\" class=\"dataframe\">\n  <thead>\n    <tr style=\"text-align: right;\">\n      <th></th>\n      <th>Date</th>\n      <th>Close</th>\n      <th>Predictions</th>\n      <th>Prediction</th>\n    </tr>\n  </thead>\n  <tbody>\n    <tr>\n      <th>987</th>\n      <td>2017-10-09 00:00:00</td>\n      <td>208.3</td>\n      <td>152.306452</td>\n      <td>152.306452</td>\n    </tr>\n    <tr>\n      <th>988</th>\n      <td>2017-10-10 00:00:00</td>\n      <td>208.45</td>\n      <td>152.310711</td>\n      <td>152.310711</td>\n    </tr>\n    <tr>\n      <th>989</th>\n      <td>2017-10-11 00:00:00</td>\n      <td>209.4</td>\n      <td>152.313376</td>\n      <td>152.313376</td>\n    </tr>\n    <tr>\n      <th>990</th>\n      <td>2017-10-12 00:00:00</td>\n      <td>212</td>\n      <td>152.331373</td>\n      <td>152.331373</td>\n    </tr>\n    <tr>\n      <th>991</th>\n      <td>2017-10-13 00:00:00</td>\n      <td>210.25</td>\n      <td>152.327871</td>\n      <td>152.327871</td>\n    </tr>\n    <tr>\n      <th>...</th>\n      <td>...</td>\n      <td>...</td>\n      <td>...</td>\n      <td>...</td>\n    </tr>\n    <tr>\n      <th>1230</th>\n      <td>2018-10-01 00:00:00</td>\n      <td>230.9</td>\n      <td>163.132287</td>\n      <td>163.132287</td>\n    </tr>\n    <tr>\n      <th>1231</th>\n      <td>2018-10-03 00:00:00</td>\n      <td>227.6</td>\n      <td>162.960239</td>\n      <td>162.960239</td>\n    </tr>\n    <tr>\n      <th>1232</th>\n      <td>2018-10-04 00:00:00</td>\n      <td>218.2</td>\n      <td>162.784877</td>\n      <td>162.784877</td>\n    </tr>\n    <tr>\n      <th>1233</th>\n      <td>2018-10-05 00:00:00</td>\n      <td>209.2</td>\n      <td>162.614857</td>\n      <td>162.614857</td>\n    </tr>\n    <tr>\n      <th>1234</th>\n      <td>2018-10-08 00:00:00</td>\n      <td>215.15</td>\n      <td>162.426005</td>\n      <td>162.426005</td>\n    </tr>\n  </tbody>\n</table>\n<p>248 rows × 4 columns</p>\n</div>"
     },
     "metadata": {},
     "output_type": "execute_result",
     "execution_count": 35
    }
   ],
   "source": [
    "valid"
   ],
   "metadata": {
    "collapsed": false,
    "pycharm": {
     "name": "#%%\n",
     "is_executing": false
    }
   }
  },
  {
   "cell_type": "code",
   "execution_count": 39,
   "outputs": [
    {
     "name": "stderr",
     "text": [
      "c:\\users\\student\\pycharmprojects\\venv\\cams_ml_37433\\lib\\site-packages\\ipykernel_launcher.py:1: SettingWithCopyWarning: \nA value is trying to be set on a copy of a slice from a DataFrame.\nTry using .loc[row_indexer,col_indexer] = value instead\n\nSee the caveats in the documentation: http://pandas.pydata.org/pandas-docs/stable/user_guide/indexing.html#returning-a-view-versus-a-copy\n  \"\"\"Entry point for launching an IPython kernel.\nc:\\users\\student\\pycharmprojects\\venv\\cams_ml_37433\\lib\\site-packages\\ipykernel_launcher.py:2: SettingWithCopyWarning: \nA value is trying to be set on a copy of a slice from a DataFrame.\nTry using .loc[row_indexer,col_indexer] = value instead\n\nSee the caveats in the documentation: http://pandas.pydata.org/pandas-docs/stable/user_guide/indexing.html#returning-a-view-versus-a-copy\n  \n"
     ],
     "output_type": "stream"
    },
    {
     "data": {
      "text/plain": "[<matplotlib.lines.Line2D at 0x182b6c9afc8>]"
     },
     "metadata": {},
     "output_type": "execute_result",
     "execution_count": 39
    },
    {
     "data": {
      "text/plain": "<Figure size 432x288 with 1 Axes>",
      "image/png": "[encoded data removed]"
     },
     "metadata": {
      "needs_background": "light"
     },
     "output_type": "display_data"
    }
   ],
   "source": [
    "valid['Predictions'] = 0\n",
    "valid['Predictions'] = preds\n",
    "plt.plot(train['Close'])\n",
    "plt.plot(valid['Predictions'])"
   ],
   "metadata": {
    "collapsed": false,
    "pycharm": {
     "name": "#%%\n",
     "is_executing": false
    }
   }
  }
 ],
 "metadata": {
  "kernelspec": {
   "name": "python3",
   "language": "python",
   "display_name": "Python 3"
  },
  "language_info": {
   "codemirror_mode": {
    "name": "ipython",
    "version": 2
   },
   "file_extension": ".py",
   "mimetype": "text/x-python",
   "name": "python",
   "nbconvert_exporter": "python",
   "pygments_lexer": "ipython2",
   "version": "2.7.6"
  },
  "pycharm": {
   "stem_cell": {
    "cell_type": "raw",
    "source": [],
    "metadata": {
     "collapsed": false
    }
   }
  }
 },
 "nbformat": 4,
 "nbformat_minor": 0
}